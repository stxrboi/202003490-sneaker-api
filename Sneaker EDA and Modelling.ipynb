{
 "cells": [
  {
   "cell_type": "code",
   "execution_count": 1,
   "id": "b0b296a3-6fb4-45ae-967a-e6f91b920cfb",
   "metadata": {
    "tags": []
   },
   "outputs": [
    {
     "name": "stdout",
     "output_type": "stream",
     "text": [
      "Defaulting to user installation because normal site-packages is not writeable\n",
      "Requirement already satisfied: pip in /users/gary/.local/lib/python3.8/site-packages (23.2.1)\n"
     ]
    }
   ],
   "source": [
    "!pip install --upgrade pip"
   ]
  },
  {
   "cell_type": "code",
   "execution_count": 2,
   "id": "cc2e06be-32f6-4727-a45c-fa5d62ac9d8c",
   "metadata": {
    "tags": []
   },
   "outputs": [],
   "source": [
    "!pip install -q nltk"
   ]
  },
  {
   "cell_type": "code",
   "execution_count": 3,
   "id": "5947597f-53ed-4790-b3bf-2292c4d25471",
   "metadata": {
    "tags": []
   },
   "outputs": [
    {
     "name": "stdout",
     "output_type": "stream",
     "text": [
      "Defaulting to user installation because normal site-packages is not writeable\n",
      "Requirement already satisfied: transformers in /users/gary/.local/lib/python3.8/site-packages (4.33.3)\n",
      "Requirement already satisfied: filelock in /usr/local/lib/python3.8/dist-packages (from transformers) (3.9.0)\n",
      "Requirement already satisfied: huggingface-hub<1.0,>=0.15.1 in /users/gary/.local/lib/python3.8/site-packages (from transformers) (0.17.3)\n",
      "Requirement already satisfied: numpy>=1.17 in /usr/local/lib/python3.8/dist-packages (from transformers) (1.22.2)\n",
      "Requirement already satisfied: packaging>=20.0 in /usr/local/lib/python3.8/dist-packages (from transformers) (22.0)\n",
      "Requirement already satisfied: pyyaml>=5.1 in /usr/local/lib/python3.8/dist-packages (from transformers) (6.0)\n",
      "Requirement already satisfied: regex!=2019.12.17 in /usr/local/lib/python3.8/dist-packages (from transformers) (2022.10.31)\n",
      "Requirement already satisfied: requests in /usr/local/lib/python3.8/dist-packages (from transformers) (2.28.2)\n",
      "Requirement already satisfied: tokenizers!=0.11.3,<0.14,>=0.11.1 in /users/gary/.local/lib/python3.8/site-packages (from transformers) (0.13.3)\n",
      "Requirement already satisfied: safetensors>=0.3.1 in /users/gary/.local/lib/python3.8/site-packages (from transformers) (0.3.3)\n",
      "Requirement already satisfied: tqdm>=4.27 in /usr/local/lib/python3.8/dist-packages (from transformers) (4.64.1)\n",
      "Requirement already satisfied: fsspec in /usr/local/lib/python3.8/dist-packages (from huggingface-hub<1.0,>=0.15.1->transformers) (2022.11.0)\n",
      "Requirement already satisfied: typing-extensions>=3.7.4.3 in /usr/local/lib/python3.8/dist-packages (from huggingface-hub<1.0,>=0.15.1->transformers) (4.4.0)\n",
      "Requirement already satisfied: charset-normalizer<4,>=2 in /usr/local/lib/python3.8/dist-packages (from requests->transformers) (3.0.1)\n",
      "Requirement already satisfied: idna<4,>=2.5 in /usr/local/lib/python3.8/dist-packages (from requests->transformers) (3.4)\n",
      "Requirement already satisfied: urllib3<1.27,>=1.21.1 in /usr/local/lib/python3.8/dist-packages (from requests->transformers) (1.26.13)\n",
      "Requirement already satisfied: certifi>=2017.4.17 in /usr/local/lib/python3.8/dist-packages (from requests->transformers) (2022.12.7)\n"
     ]
    }
   ],
   "source": [
    "!pip install transformers"
   ]
  },
  {
   "cell_type": "code",
   "execution_count": 4,
   "id": "42b3db0c-a112-4a04-a5ab-2ad8aa4c6c29",
   "metadata": {
    "tags": []
   },
   "outputs": [
    {
     "name": "stderr",
     "output_type": "stream",
     "text": [
      "[nltk_data] Downloading package punkt to /users/gary/nltk_data...\n",
      "[nltk_data]   Unzipping tokenizers/punkt.zip.\n",
      "[nltk_data] Downloading package stopwords to /users/gary/nltk_data...\n",
      "[nltk_data]   Unzipping corpora/stopwords.zip.\n",
      "[nltk_data] Downloading package wordnet to /users/gary/nltk_data...\n",
      "/usr/local/lib/python3.8/dist-packages/tqdm/auto.py:22: TqdmWarning: IProgress not found. Please update jupyter and ipywidgets. See https://ipywidgets.readthedocs.io/en/stable/user_install.html\n",
      "  from .autonotebook import tqdm as notebook_tqdm\n",
      "2023-09-30 15:52:03.516058: I tensorflow/core/platform/cpu_feature_guard.cc:194] This TensorFlow binary is optimized with oneAPI Deep Neural Network Library (oneDNN) to use the following CPU instructions in performance-critical operations:  SSE3 SSE4.1 SSE4.2 AVX\n",
      "To enable them in other operations, rebuild TensorFlow with the appropriate compiler flags.\n"
     ]
    }
   ],
   "source": [
    "import pandas as pd\n",
    "import numpy as np\n",
    "import matplotlib.pyplot as plt\n",
    "plt.style.use('ggplot')\n",
    "import seaborn as sns\n",
    "\n",
    "import nltk\n",
    "from nltk.corpus import stopwords\n",
    "from nltk.tokenize import word_tokenize\n",
    "from nltk.stem import WordNetLemmatizer\n",
    "import string\n",
    "nltk.download('punkt')\n",
    "nltk.download('stopwords')\n",
    "nltk.download('wordnet')\n",
    "from nltk.sentiment import SentimentIntensityAnalyzer\n",
    "\n",
    "from tqdm.notebook import tqdm\n",
    "\n",
    "from transformers import AutoTokenizer\n",
    "from transformers import AutoModelForSequenceClassification\n",
    "from scipy.special import softmax\n",
    "from transformers import pipeline\n",
    "\n",
    "from sklearn.feature_extraction.text import CountVectorizer, TfidfVectorizer\n",
    "from sklearn.model_selection import train_test_split\n",
    "from sklearn.feature_extraction.text import TfidfVectorizer\n",
    "from sklearn.linear_model import LogisticRegression\n",
    "from sklearn.metrics import accuracy_score, classification_report, precision_score, recall_score, f1_score\n",
    "\n",
    "import joblib"
   ]
  },
  {
   "cell_type": "code",
   "execution_count": 224,
   "id": "8d27d284-efa9-4306-8f82-6d5cd3b87786",
   "metadata": {
    "tags": []
   },
   "outputs": [
    {
     "name": "stdout",
     "output_type": "stream",
     "text": [
      "Shape: (100000, 6)\n"
     ]
    },
    {
     "data": {
      "text/html": [
       "<div>\n",
       "<style scoped>\n",
       "    .dataframe tbody tr th:only-of-type {\n",
       "        vertical-align: middle;\n",
       "    }\n",
       "\n",
       "    .dataframe tbody tr th {\n",
       "        vertical-align: top;\n",
       "    }\n",
       "\n",
       "    .dataframe thead th {\n",
       "        text-align: right;\n",
       "    }\n",
       "</style>\n",
       "<table border=\"1\" class=\"dataframe\">\n",
       "  <thead>\n",
       "    <tr style=\"text-align: right;\">\n",
       "      <th></th>\n",
       "      <th>review_id</th>\n",
       "      <th>product_id</th>\n",
       "      <th>user_id</th>\n",
       "      <th>rating</th>\n",
       "      <th>review_text</th>\n",
       "      <th>timestamp</th>\n",
       "    </tr>\n",
       "  </thead>\n",
       "  <tbody>\n",
       "    <tr>\n",
       "      <th>0</th>\n",
       "      <td>1</td>\n",
       "      <td>103</td>\n",
       "      <td>16074</td>\n",
       "      <td>3</td>\n",
       "      <td>Comfortable, but not durable.</td>\n",
       "      <td>2022/11/07 05:30</td>\n",
       "    </tr>\n",
       "    <tr>\n",
       "      <th>1</th>\n",
       "      <td>2</td>\n",
       "      <td>436</td>\n",
       "      <td>11648</td>\n",
       "      <td>4</td>\n",
       "      <td>Highly recommend!</td>\n",
       "      <td>2021/09/11 02:53</td>\n",
       "    </tr>\n",
       "    <tr>\n",
       "      <th>2</th>\n",
       "      <td>3</td>\n",
       "      <td>861</td>\n",
       "      <td>46508</td>\n",
       "      <td>2</td>\n",
       "      <td>Do not recommend.</td>\n",
       "      <td>2022/12/14 13:24</td>\n",
       "    </tr>\n",
       "    <tr>\n",
       "      <th>3</th>\n",
       "      <td>4</td>\n",
       "      <td>271</td>\n",
       "      <td>40094</td>\n",
       "      <td>3</td>\n",
       "      <td>Comfortable, but not durable.</td>\n",
       "      <td>2021/11/29 04:01</td>\n",
       "    </tr>\n",
       "    <tr>\n",
       "      <th>4</th>\n",
       "      <td>5</td>\n",
       "      <td>107</td>\n",
       "      <td>49897</td>\n",
       "      <td>4</td>\n",
       "      <td>Will buy again.</td>\n",
       "      <td>2023/04/24 12:12</td>\n",
       "    </tr>\n",
       "  </tbody>\n",
       "</table>\n",
       "</div>"
      ],
      "text/plain": [
       "   review_id  product_id  user_id  rating                    review_text  \\\n",
       "0          1         103    16074       3  Comfortable, but not durable.   \n",
       "1          2         436    11648       4              Highly recommend!   \n",
       "2          3         861    46508       2              Do not recommend.   \n",
       "3          4         271    40094       3  Comfortable, but not durable.   \n",
       "4          5         107    49897       4                Will buy again.   \n",
       "\n",
       "          timestamp  \n",
       "0  2022/11/07 05:30  \n",
       "1  2021/09/11 02:53  \n",
       "2  2022/12/14 13:24  \n",
       "3  2021/11/29 04:01  \n",
       "4  2023/04/24 12:12  "
      ]
     },
     "execution_count": 224,
     "metadata": {},
     "output_type": "execute_result"
    }
   ],
   "source": [
    "df = pd.read_csv('sneakers_Reviews_Dataset.csv', sep=\";\")\n",
    "print('Shape:', df.shape)\n",
    "df.head()"
   ]
  },
  {
   "cell_type": "code",
   "execution_count": 225,
   "id": "a24166cd-dbc1-48b4-bc8f-6bf59b9aeb85",
   "metadata": {
    "tags": []
   },
   "outputs": [
    {
     "data": {
      "image/png": "[encoded data removed]",
      "text/plain": [
       "<Figure size 1000x500 with 1 Axes>"
      ]
     },
     "metadata": {},
     "output_type": "display_data"
    }
   ],
   "source": [
    "ax = df['rating'].value_counts().sort_index() \\\n",
    "    .plot(kind='bar',\n",
    "          title='Count of Reviews by Rating',\n",
    "          figsize=(10, 5))\n",
    "ax.set_xlabel('Review Rating')\n",
    "plt.show()"
   ]
  },
  {
   "cell_type": "code",
   "execution_count": 144,
   "id": "04be41fc-b3cd-40a3-ad54-5948971e5158",
   "metadata": {
    "tags": []
   },
   "outputs": [
    {
     "data": {
      "text/plain": [
       "4    20096\n",
       "2    20066\n",
       "5    20006\n",
       "3    19924\n",
       "1    19908\n",
       "Name: rating, dtype: int64"
      ]
     },
     "execution_count": 144,
     "metadata": {},
     "output_type": "execute_result"
    }
   ],
   "source": [
    "df['rating'].value_counts()"
   ]
  },
  {
   "cell_type": "code",
   "execution_count": 145,
   "id": "030a94f1-4eb9-4d86-9b60-2330f64a4c24",
   "metadata": {
    "tags": []
   },
   "outputs": [
    {
     "name": "stdout",
     "output_type": "stream",
     "text": [
      "<class 'pandas.core.frame.DataFrame'>\n",
      "RangeIndex: 100000 entries, 0 to 99999\n",
      "Data columns (total 6 columns):\n",
      " #   Column       Non-Null Count   Dtype \n",
      "---  ------       --------------   ----- \n",
      " 0   review_id    100000 non-null  int64 \n",
      " 1   product_id   100000 non-null  int64 \n",
      " 2   user_id      100000 non-null  int64 \n",
      " 3   rating       100000 non-null  int64 \n",
      " 4   review_text  100000 non-null  object\n",
      " 5   timestamp    100000 non-null  object\n",
      "dtypes: int64(4), object(2)\n",
      "memory usage: 4.6+ MB\n"
     ]
    }
   ],
   "source": [
    "df.info()"
   ]
  },
  {
   "cell_type": "code",
   "execution_count": 146,
   "id": "9b2c8b89-eda0-47d6-83de-c89d5b23ff01",
   "metadata": {
    "tags": []
   },
   "outputs": [
    {
     "name": "stdout",
     "output_type": "stream",
     "text": [
      "review_id      0\n",
      "product_id     0\n",
      "user_id        0\n",
      "rating         0\n",
      "review_text    0\n",
      "timestamp      0\n",
      "dtype: int64\n"
     ]
    }
   ],
   "source": [
    "missing_values = df.isnull().sum()\n",
    "print(missing_values)"
   ]
  },
  {
   "cell_type": "markdown",
   "id": "4f1b237c-d6ab-4c41-ac23-134893e6ba68",
   "metadata": {
    "tags": []
   },
   "source": [
    "- No missing values present in the dataset and is fairly balanced as each rating has about +-20000 reviews contributing to the ratings."
   ]
  },
  {
   "cell_type": "code",
   "execution_count": 147,
   "id": "e049bd69-8ebf-4b4a-a470-16f88552406a",
   "metadata": {
    "tags": []
   },
   "outputs": [
    {
     "data": {
      "text/html": [
       "<div>\n",
       "<style scoped>\n",
       "    .dataframe tbody tr th:only-of-type {\n",
       "        vertical-align: middle;\n",
       "    }\n",
       "\n",
       "    .dataframe tbody tr th {\n",
       "        vertical-align: top;\n",
       "    }\n",
       "\n",
       "    .dataframe thead th {\n",
       "        text-align: right;\n",
       "    }\n",
       "</style>\n",
       "<table border=\"1\" class=\"dataframe\">\n",
       "  <thead>\n",
       "    <tr style=\"text-align: right;\">\n",
       "      <th></th>\n",
       "      <th>review_id</th>\n",
       "      <th>product_id</th>\n",
       "      <th>user_id</th>\n",
       "      <th>rating</th>\n",
       "    </tr>\n",
       "  </thead>\n",
       "  <tbody>\n",
       "    <tr>\n",
       "      <th>count</th>\n",
       "      <td>100000.000000</td>\n",
       "      <td>100000.000000</td>\n",
       "      <td>100000.000000</td>\n",
       "      <td>100000.000000</td>\n",
       "    </tr>\n",
       "    <tr>\n",
       "      <th>mean</th>\n",
       "      <td>50000.500000</td>\n",
       "      <td>500.827000</td>\n",
       "      <td>24989.389640</td>\n",
       "      <td>3.002260</td>\n",
       "    </tr>\n",
       "    <tr>\n",
       "      <th>std</th>\n",
       "      <td>28867.657797</td>\n",
       "      <td>288.826213</td>\n",
       "      <td>14417.825247</td>\n",
       "      <td>1.413575</td>\n",
       "    </tr>\n",
       "    <tr>\n",
       "      <th>min</th>\n",
       "      <td>1.000000</td>\n",
       "      <td>1.000000</td>\n",
       "      <td>1.000000</td>\n",
       "      <td>1.000000</td>\n",
       "    </tr>\n",
       "    <tr>\n",
       "      <th>25%</th>\n",
       "      <td>25000.750000</td>\n",
       "      <td>251.000000</td>\n",
       "      <td>12481.750000</td>\n",
       "      <td>2.000000</td>\n",
       "    </tr>\n",
       "    <tr>\n",
       "      <th>50%</th>\n",
       "      <td>50000.500000</td>\n",
       "      <td>501.000000</td>\n",
       "      <td>24916.000000</td>\n",
       "      <td>3.000000</td>\n",
       "    </tr>\n",
       "    <tr>\n",
       "      <th>75%</th>\n",
       "      <td>75000.250000</td>\n",
       "      <td>752.000000</td>\n",
       "      <td>37479.250000</td>\n",
       "      <td>4.000000</td>\n",
       "    </tr>\n",
       "    <tr>\n",
       "      <th>max</th>\n",
       "      <td>100000.000000</td>\n",
       "      <td>1000.000000</td>\n",
       "      <td>49998.000000</td>\n",
       "      <td>5.000000</td>\n",
       "    </tr>\n",
       "  </tbody>\n",
       "</table>\n",
       "</div>"
      ],
      "text/plain": [
       "           review_id     product_id        user_id         rating\n",
       "count  100000.000000  100000.000000  100000.000000  100000.000000\n",
       "mean    50000.500000     500.827000   24989.389640       3.002260\n",
       "std     28867.657797     288.826213   14417.825247       1.413575\n",
       "min         1.000000       1.000000       1.000000       1.000000\n",
       "25%     25000.750000     251.000000   12481.750000       2.000000\n",
       "50%     50000.500000     501.000000   24916.000000       3.000000\n",
       "75%     75000.250000     752.000000   37479.250000       4.000000\n",
       "max    100000.000000    1000.000000   49998.000000       5.000000"
      ]
     },
     "execution_count": 147,
     "metadata": {},
     "output_type": "execute_result"
    }
   ],
   "source": [
    "df.describe()"
   ]
  },
  {
   "cell_type": "code",
   "execution_count": 148,
   "id": "7138a050-3b2b-4397-ba35-3b1b22d2ba43",
   "metadata": {
    "tags": []
   },
   "outputs": [
    {
     "data": {
      "text/plain": [
       "array(['Comfortable, but not durable.', 'Highly recommend!',\n",
       "       'Do not recommend.', 'Will buy again.', 'Very uncomfortable.',\n",
       "       'They are okay.', 'Poor quality!', 'I love these sneakers.',\n",
       "       'Great quality!', 'Waste of money.', 'Very comfortable.',\n",
       "       'Average sneakers.', 'Falling apart after a week.',\n",
       "       'Decent quality.'], dtype=object)"
      ]
     },
     "execution_count": 148,
     "metadata": {},
     "output_type": "execute_result"
    }
   ],
   "source": [
    "df['review_text'].unique()"
   ]
  },
  {
   "cell_type": "code",
   "execution_count": 149,
   "id": "fa51ceb4-cd9e-4bf2-95df-60193a4d8a74",
   "metadata": {
    "tags": []
   },
   "outputs": [
    {
     "data": {
      "text/plain": [
       "I love these sneakers.           8111\n",
       "Will buy again.                  8082\n",
       "Do not recommend.                8067\n",
       "Falling apart after a week.      8035\n",
       "Very uncomfortable.              8009\n",
       "Highly recommend!                7984\n",
       "Poor quality!                    7970\n",
       "Great quality!                   7966\n",
       "Very comfortable.                7959\n",
       "Waste of money.                  7893\n",
       "Average sneakers.                5078\n",
       "Decent quality.                  4965\n",
       "Comfortable, but not durable.    4960\n",
       "They are okay.                   4921\n",
       "Name: review_text, dtype: int64"
      ]
     },
     "execution_count": 149,
     "metadata": {},
     "output_type": "execute_result"
    }
   ],
   "source": [
    "df['review_text'].value_counts()"
   ]
  },
  {
   "cell_type": "markdown",
   "id": "f0cd1908-e405-4fdd-9133-024008e28314",
   "metadata": {},
   "source": [
    "### Pre-processing"
   ]
  },
  {
   "cell_type": "code",
   "execution_count": 150,
   "id": "ebe9aacb-acdf-49aa-96d6-586e9c8ff00f",
   "metadata": {
    "tags": []
   },
   "outputs": [],
   "source": [
    "import random\n",
    "n = random.randint(0,10000)"
   ]
  },
  {
   "cell_type": "code",
   "execution_count": 151,
   "id": "183e6e56-1868-4861-ad27-b04816aa6ed1",
   "metadata": {
    "tags": []
   },
   "outputs": [
    {
     "name": "stdout",
     "output_type": "stream",
     "text": [
      "Very uncomfortable.\n"
     ]
    }
   ],
   "source": [
    "ex = df['review_text'][n]\n",
    "print(ex)"
   ]
  },
  {
   "cell_type": "code",
   "execution_count": 152,
   "id": "7389f016-3cc8-4b65-a11f-7d948a4c128e",
   "metadata": {
    "tags": []
   },
   "outputs": [
    {
     "name": "stdout",
     "output_type": "stream",
     "text": [
      "very uncomfortable.\n"
     ]
    }
   ],
   "source": [
    "# convert to lowercase\n",
    "ex = ex.lower()\n",
    "print(ex)"
   ]
  },
  {
   "cell_type": "code",
   "execution_count": 153,
   "id": "d08d6853-1cd8-478c-8f30-e4d22bf9dcb7",
   "metadata": {
    "tags": []
   },
   "outputs": [
    {
     "name": "stdout",
     "output_type": "stream",
     "text": [
      "very uncomfortable\n"
     ]
    }
   ],
   "source": [
    "#remove punctuation\n",
    "ex = ex.translate(str.maketrans('', '', string.punctuation))\n",
    "print(ex)"
   ]
  },
  {
   "cell_type": "code",
   "execution_count": 154,
   "id": "a32ab6d4-6523-4446-899f-cf12068e87df",
   "metadata": {
    "tags": []
   },
   "outputs": [],
   "source": [
    "# Tokenize example text\n",
    "tokens = word_tokenize(ex)"
   ]
  },
  {
   "cell_type": "code",
   "execution_count": 155,
   "id": "6d52a541-9a7b-4a32-844d-da3c066ee97b",
   "metadata": {
    "tags": []
   },
   "outputs": [
    {
     "name": "stdout",
     "output_type": "stream",
     "text": [
      "['very', 'uncomfortable']\n"
     ]
    }
   ],
   "source": [
    "print(tokens)"
   ]
  },
  {
   "cell_type": "code",
   "execution_count": 156,
   "id": "a8c32731-04fa-4657-b9b6-e5c136745142",
   "metadata": {
    "tags": []
   },
   "outputs": [
    {
     "name": "stdout",
     "output_type": "stream",
     "text": [
      "{'few', 'for', 'whom', \"that'll\", 'above', 'was', 'a', 'with', \"should've\", 'to', 'we', \"you'd\", 'mustn', 'those', 'out', 'won', 'which', 'no', 'before', 'is', \"mustn't\", 'hers', 'own', 'his', 'm', 'himself', 'then', 'itself', 's', 'should', 'once', 'nor', 'haven', 'off', 'at', 'shouldn', 'hasn', 'themselves', 'down', \"won't\", 'our', 'doing', 'they', 'not', 'why', 'll', 'being', 'wouldn', 'from', 'couldn', 'didn', 'very', 'and', 'where', 'her', 'same', 'through', 'do', \"you're\", \"doesn't\", 'again', 'herself', 'each', 'my', 'but', 'further', 'an', 'its', 'yours', 'having', 'while', 'or', 'of', 'during', 'there', 'i', 'that', 'these', 'after', \"aren't\", \"haven't\", 'yourselves', \"needn't\", \"weren't\", \"mightn't\", \"you'll\", 't', 'hadn', 'were', \"wasn't\", 'here', 'aren', 'you', 'below', 'both', \"hasn't\", 'so', \"couldn't\", 'too', 'your', 'about', 'myself', 'isn', 'did', 'than', 'how', 'o', 'if', 'mightn', 'this', 'has', 'other', 'some', 'does', 'ours', 'theirs', 'until', 'in', 'needn', 'doesn', 'more', 'such', 'd', 'shan', \"isn't\", 've', 'him', \"hadn't\", 'what', 'she', 'because', \"shan't\", 'am', 'just', 'any', 'now', 'y', \"don't\", 'by', 'had', 'them', 'up', 'all', \"didn't\", 'ain', \"it's\", 'wasn', \"you've\", 'against', 'their', 'he', 'it', 'are', 'most', 'the', 'over', 'have', 'don', \"she's\", 'under', \"shouldn't\", \"wouldn't\", 'into', 'who', 'ma', 'be', 'on', 'been', 'weren', 'ourselves', 'only', 'when', 'will', 're', 'between', 'me', 'as', 'yourself', 'can'}\n"
     ]
    }
   ],
   "source": [
    "print(stop_words)"
   ]
  },
  {
   "cell_type": "markdown",
   "id": "1919fbd6-cafe-4984-ad9e-d5033d7bf511",
   "metadata": {},
   "source": [
    "- Since the stop words include words such as not and don't which is present in our dataset and can be used to express a negative statement we shall not remove the stop words in hope of a more accurate trained model"
   ]
  },
  {
   "cell_type": "code",
   "execution_count": 157,
   "id": "71a46ab2-af9c-4287-a1f5-b0e70ff9d2ec",
   "metadata": {
    "tags": []
   },
   "outputs": [
    {
     "name": "stdout",
     "output_type": "stream",
     "text": [
      "['very', 'uncomfortable']\n"
     ]
    }
   ],
   "source": [
    "print(tokens)"
   ]
  },
  {
   "cell_type": "code",
   "execution_count": 158,
   "id": "06da81b2-87b0-4be5-8bbb-5cb590f7e26d",
   "metadata": {
    "tags": []
   },
   "outputs": [],
   "source": [
    "#model = f\"cardiffnlp/twitter-roberta-base-sentiment\"\n",
    "#tokenizer = AutoTokenizer.from_pretrained(model)\n",
    "#sentiment = AutoModelForSequenceClassification.from_pretrained(model)"
   ]
  },
  {
   "cell_type": "code",
   "execution_count": 159,
   "id": "2f1cc81d-a893-4a84-9c42-e1f01df4d006",
   "metadata": {
    "tags": []
   },
   "outputs": [],
   "source": [
    "# Lemmatization\n",
    "lemmatizer = WordNetLemmatizer()\n",
    "tokens = [lemmatizer.lemmatize(word) for word in tokens]"
   ]
  },
  {
   "cell_type": "code",
   "execution_count": 160,
   "id": "ee7cffaa-9ea9-4e13-8ec0-c88ac4bee073",
   "metadata": {
    "tags": []
   },
   "outputs": [
    {
     "name": "stdout",
     "output_type": "stream",
     "text": [
      "['very', 'uncomfortable']\n"
     ]
    }
   ],
   "source": [
    "print(tokens)"
   ]
  },
  {
   "cell_type": "code",
   "execution_count": 161,
   "id": "0b7b9267-09a9-4a93-b9dd-1cf9cf3104bc",
   "metadata": {
    "tags": []
   },
   "outputs": [],
   "source": [
    "# Join tokens back into a single string\n",
    "combo = ' '.join(tokens)"
   ]
  },
  {
   "cell_type": "code",
   "execution_count": 162,
   "id": "3c383650-e06c-4845-b6d5-4a2742998db9",
   "metadata": {
    "tags": []
   },
   "outputs": [
    {
     "name": "stdout",
     "output_type": "stream",
     "text": [
      "very uncomfortable\n"
     ]
    }
   ],
   "source": [
    "print(combo)"
   ]
  },
  {
   "cell_type": "markdown",
   "id": "94e728d7-516c-43ad-b603-14cb84308021",
   "metadata": {},
   "source": [
    "Now that everything seems to be functional lets create a function to do it for every row."
   ]
  },
  {
   "cell_type": "code",
   "execution_count": 226,
   "id": "9ae0f487-6dab-448d-b668-0cc52aca3abd",
   "metadata": {
    "tags": []
   },
   "outputs": [
    {
     "name": "stdout",
     "output_type": "stream",
     "text": [
      "                         review_text          cleaned_review_text\n",
      "0      Comfortable, but not durable.  comfortable but not durable\n",
      "1                  Highly recommend!             highly recommend\n",
      "2                  Do not recommend.             do not recommend\n",
      "3      Comfortable, but not durable.  comfortable but not durable\n",
      "4                    Will buy again.               will buy again\n",
      "...                              ...                          ...\n",
      "99995    Falling apart after a week.   falling apart after a week\n",
      "99996              Highly recommend!             highly recommend\n",
      "99997                Will buy again.               will buy again\n",
      "99998                Waste of money.               waste of money\n",
      "99999                Waste of money.               waste of money\n",
      "\n",
      "[100000 rows x 2 columns]\n"
     ]
    }
   ],
   "source": [
    "def preprocess_text(text):\n",
    "    # Convert text to lowercase\n",
    "    text = text.lower()\n",
    "\n",
    "    # Remove punctuation\n",
    "    text = text.translate(str.maketrans('', '', string.punctuation))\n",
    "\n",
    "    # Tokenize the text\n",
    "    tokens = word_tokenize(text)\n",
    "\n",
    "    # Lemmatization\n",
    "    lemmatizer = WordNetLemmatizer()\n",
    "    tokens = [lemmatizer.lemmatize(word) for word in tokens]\n",
    "\n",
    "    # Join tokens back into a single string\n",
    "    preprocessed_text = ' '.join(tokens)\n",
    "    \n",
    "    return preprocessed_text\n",
    "\n",
    "# Apply the preprocess_text function to the 'review_text' column\n",
    "df['cleaned_review_text'] = df['review_text'].apply(preprocess_text)\n",
    "\n",
    "\n",
    "# Display the cleaned review_text column\n",
    "print(df[['review_text', 'cleaned_review_text']])"
   ]
  },
  {
   "cell_type": "markdown",
   "id": "cff4f8d4-7f08-4f0d-bad7-de6eaaa67654",
   "metadata": {},
   "source": [
    "We have now pre-processed our text by:\n",
    "- removing punctuation,\n",
    "- lowering all the words received,\n",
    "- lemmatization, i.e., grouping variant forms of a word.\n",
    "\n",
    "Moving onto the next step, we shall focus on feature extraction."
   ]
  },
  {
   "cell_type": "markdown",
   "id": "6b16900f-63a4-4763-96a5-1fe5948b09d6",
   "metadata": {},
   "source": [
    "### Feature Extraction"
   ]
  },
  {
   "cell_type": "code",
   "execution_count": null,
   "id": "096fbacf-a229-443e-9d58-e8d69550224a",
   "metadata": {},
   "outputs": [],
   "source": [
    "#tfidf_vectorizer = TfidfVectorizer(max_features=1000) \n",
    "#X = tfidf_vectorizer.fit_transform(df['review_text'])"
   ]
  },
  {
   "cell_type": "code",
   "execution_count": 227,
   "id": "420d7840-e3af-47e7-80a9-a5daad6571a1",
   "metadata": {
    "tags": []
   },
   "outputs": [
    {
     "name": "stdout",
     "output_type": "stream",
     "text": [
      "       after    again  apart  are  average       but      buy  comfortable  \\\n",
      "0        0.0  0.00000    0.0  0.0      0.0  0.563004  0.00000     0.428401   \n",
      "1        0.0  0.00000    0.0  0.0      0.0  0.000000  0.00000     0.000000   \n",
      "2        0.0  0.00000    0.0  0.0      0.0  0.000000  0.00000     0.000000   \n",
      "3        0.0  0.00000    0.0  0.0      0.0  0.563004  0.00000     0.428401   \n",
      "4        0.0  0.57735    0.0  0.0      0.0  0.000000  0.57735     0.000000   \n",
      "...      ...      ...    ...  ...      ...       ...      ...          ...   \n",
      "99995    0.5  0.00000    0.5  0.0      0.0  0.000000  0.00000     0.000000   \n",
      "99996    0.0  0.00000    0.0  0.0      0.0  0.000000  0.00000     0.000000   \n",
      "99997    0.0  0.57735    0.0  0.0      0.0  0.000000  0.57735     0.000000   \n",
      "99998    0.0  0.00000    0.0  0.0      0.0  0.000000  0.00000     0.000000   \n",
      "99999    0.0  0.00000    0.0  0.0      0.0  0.000000  0.00000     0.000000   \n",
      "\n",
      "       decent        do  ...  quality  recommend  sneaker  these  they  \\\n",
      "0         0.0  0.000000  ...      0.0   0.000000      0.0    0.0   0.0   \n",
      "1         0.0  0.000000  ...      0.0   0.625673      0.0    0.0   0.0   \n",
      "2         0.0  0.646419  ...      0.0   0.519989      0.0    0.0   0.0   \n",
      "3         0.0  0.000000  ...      0.0   0.000000      0.0    0.0   0.0   \n",
      "4         0.0  0.000000  ...      0.0   0.000000      0.0    0.0   0.0   \n",
      "...       ...       ...  ...      ...        ...      ...    ...   ...   \n",
      "99995     0.0  0.000000  ...      0.0   0.000000      0.0    0.0   0.0   \n",
      "99996     0.0  0.000000  ...      0.0   0.625673      0.0    0.0   0.0   \n",
      "99997     0.0  0.000000  ...      0.0   0.000000      0.0    0.0   0.0   \n",
      "99998     0.0  0.000000  ...      0.0   0.000000      0.0    0.0   0.0   \n",
      "99999     0.0  0.000000  ...      0.0   0.000000      0.0    0.0   0.0   \n",
      "\n",
      "       uncomfortable  very    waste  week     will  \n",
      "0                0.0   0.0  0.00000   0.0  0.00000  \n",
      "1                0.0   0.0  0.00000   0.0  0.00000  \n",
      "2                0.0   0.0  0.00000   0.0  0.00000  \n",
      "3                0.0   0.0  0.00000   0.0  0.00000  \n",
      "4                0.0   0.0  0.00000   0.0  0.57735  \n",
      "...              ...   ...      ...   ...      ...  \n",
      "99995            0.0   0.0  0.00000   0.5  0.00000  \n",
      "99996            0.0   0.0  0.00000   0.0  0.00000  \n",
      "99997            0.0   0.0  0.00000   0.0  0.57735  \n",
      "99998            0.0   0.0  0.57735   0.0  0.00000  \n",
      "99999            0.0   0.0  0.57735   0.0  0.00000  \n",
      "\n",
      "[100000 rows x 30 columns]\n"
     ]
    }
   ],
   "source": [
    "# Initialize the TF-IDF vectorizer\n",
    "tfidf_vectorizer = TfidfVectorizer(max_features=1000)  \n",
    "\n",
    "# Fit and transform the cleaned review_text\n",
    "tfidf_matrix = tfidf_vectorizer.fit_transform(df['cleaned_review_text'])\n",
    "\n",
    "# Convert the TF-IDF matrix to a Pandas DataFrame\n",
    "numeric_review = pd.DataFrame(tfidf_matrix.toarray(), columns=tfidf_vectorizer.get_feature_names_out())\n",
    "\n",
    "# The numeric_review now contains the numerical representations of the cleaned review_text\n",
    "print(numeric_review)\n"
   ]
  },
  {
   "cell_type": "code",
   "execution_count": 111,
   "id": "3cc1e88a-cb48-48d4-b92b-67582ee572da",
   "metadata": {
    "tags": []
   },
   "outputs": [
    {
     "name": "stdout",
     "output_type": "stream",
     "text": [
      "  (0, 10)\t0.5630035948074295\n",
      "  (0, 16)\t0.42723078343887516\n",
      "  (0, 5)\t0.5630035948074295\n",
      "  (0, 7)\t0.42840140306729674\n",
      "  (1, 21)\t0.6256727386225173\n",
      "  (1, 13)\t0.7800856518002359\n",
      "  (2, 9)\t0.6464185987229392\n",
      "  (2, 21)\t0.5199885071673452\n",
      "  (2, 16)\t0.5583502016109132\n",
      "  (3, 10)\t0.5630035948074295\n",
      "  (3, 16)\t0.42723078343887516\n",
      "  (3, 5)\t0.5630035948074295\n",
      "  (3, 7)\t0.42840140306729674\n",
      "  (4, 1)\t0.5773502691896257\n",
      "  (4, 6)\t0.5773502691896257\n",
      "  (4, 29)\t0.5773502691896257\n",
      "  (5, 25)\t0.779254973505128\n",
      "  (5, 26)\t0.6267070178859676\n",
      "  (6, 18)\t0.5773502691896257\n",
      "  (6, 3)\t0.5773502691896257\n",
      "  (6, 24)\t0.5773502691896257\n",
      "  (7, 21)\t0.6256727386225173\n",
      "  (7, 13)\t0.7800856518002359\n",
      "  (8, 20)\t0.5879499130172028\n",
      "  (8, 19)\t0.8088973357497623\n",
      "  :\t:\n",
      "  (99990, 29)\t0.5773502691896257\n",
      "  (99991, 26)\t0.6811898633637172\n",
      "  (99991, 7)\t0.7321068023523073\n",
      "  (99992, 20)\t0.5879499130172028\n",
      "  (99992, 19)\t0.8088973357497623\n",
      "  (99993, 9)\t0.6464185987229392\n",
      "  (99993, 21)\t0.5199885071673452\n",
      "  (99993, 16)\t0.5583502016109132\n",
      "  (99994, 26)\t0.6811898633637172\n",
      "  (99994, 7)\t0.7321068023523073\n",
      "  (99995, 28)\t0.5\n",
      "  (99995, 0)\t0.5\n",
      "  (99995, 2)\t0.5\n",
      "  (99995, 11)\t0.5\n",
      "  (99996, 21)\t0.6256727386225173\n",
      "  (99996, 13)\t0.7800856518002359\n",
      "  (99997, 1)\t0.5773502691896257\n",
      "  (99997, 6)\t0.5773502691896257\n",
      "  (99997, 29)\t0.5773502691896257\n",
      "  (99998, 15)\t0.5773502691896257\n",
      "  (99998, 17)\t0.5773502691896257\n",
      "  (99998, 27)\t0.5773502691896257\n",
      "  (99999, 15)\t0.5773502691896257\n",
      "  (99999, 17)\t0.5773502691896257\n",
      "  (99999, 27)\t0.5773502691896257\n"
     ]
    }
   ],
   "source": [
    "print(tfidf_matrix)"
   ]
  },
  {
   "cell_type": "code",
   "execution_count": 107,
   "id": "83661426-2192-4533-8aea-319506827c1f",
   "metadata": {
    "tags": []
   },
   "outputs": [
    {
     "data": {
      "text/html": [
       "<div>\n",
       "<style scoped>\n",
       "    .dataframe tbody tr th:only-of-type {\n",
       "        vertical-align: middle;\n",
       "    }\n",
       "\n",
       "    .dataframe tbody tr th {\n",
       "        vertical-align: top;\n",
       "    }\n",
       "\n",
       "    .dataframe thead th {\n",
       "        text-align: right;\n",
       "    }\n",
       "</style>\n",
       "<table border=\"1\" class=\"dataframe\">\n",
       "  <thead>\n",
       "    <tr style=\"text-align: right;\">\n",
       "      <th></th>\n",
       "      <th>after</th>\n",
       "      <th>again</th>\n",
       "      <th>apart</th>\n",
       "      <th>are</th>\n",
       "      <th>average</th>\n",
       "      <th>but</th>\n",
       "      <th>buy</th>\n",
       "      <th>comfortable</th>\n",
       "      <th>decent</th>\n",
       "      <th>do</th>\n",
       "      <th>...</th>\n",
       "      <th>quality</th>\n",
       "      <th>recommend</th>\n",
       "      <th>sneaker</th>\n",
       "      <th>these</th>\n",
       "      <th>they</th>\n",
       "      <th>uncomfortable</th>\n",
       "      <th>very</th>\n",
       "      <th>waste</th>\n",
       "      <th>week</th>\n",
       "      <th>will</th>\n",
       "    </tr>\n",
       "  </thead>\n",
       "  <tbody>\n",
       "    <tr>\n",
       "      <th>0</th>\n",
       "      <td>0.0</td>\n",
       "      <td>0.00000</td>\n",
       "      <td>0.0</td>\n",
       "      <td>0.0</td>\n",
       "      <td>0.0</td>\n",
       "      <td>0.563004</td>\n",
       "      <td>0.00000</td>\n",
       "      <td>0.428401</td>\n",
       "      <td>0.0</td>\n",
       "      <td>0.000000</td>\n",
       "      <td>...</td>\n",
       "      <td>0.0</td>\n",
       "      <td>0.000000</td>\n",
       "      <td>0.0</td>\n",
       "      <td>0.0</td>\n",
       "      <td>0.0</td>\n",
       "      <td>0.0</td>\n",
       "      <td>0.0</td>\n",
       "      <td>0.00000</td>\n",
       "      <td>0.0</td>\n",
       "      <td>0.00000</td>\n",
       "    </tr>\n",
       "    <tr>\n",
       "      <th>1</th>\n",
       "      <td>0.0</td>\n",
       "      <td>0.00000</td>\n",
       "      <td>0.0</td>\n",
       "      <td>0.0</td>\n",
       "      <td>0.0</td>\n",
       "      <td>0.000000</td>\n",
       "      <td>0.00000</td>\n",
       "      <td>0.000000</td>\n",
       "      <td>0.0</td>\n",
       "      <td>0.000000</td>\n",
       "      <td>...</td>\n",
       "      <td>0.0</td>\n",
       "      <td>0.625673</td>\n",
       "      <td>0.0</td>\n",
       "      <td>0.0</td>\n",
       "      <td>0.0</td>\n",
       "      <td>0.0</td>\n",
       "      <td>0.0</td>\n",
       "      <td>0.00000</td>\n",
       "      <td>0.0</td>\n",
       "      <td>0.00000</td>\n",
       "    </tr>\n",
       "    <tr>\n",
       "      <th>2</th>\n",
       "      <td>0.0</td>\n",
       "      <td>0.00000</td>\n",
       "      <td>0.0</td>\n",
       "      <td>0.0</td>\n",
       "      <td>0.0</td>\n",
       "      <td>0.000000</td>\n",
       "      <td>0.00000</td>\n",
       "      <td>0.000000</td>\n",
       "      <td>0.0</td>\n",
       "      <td>0.646419</td>\n",
       "      <td>...</td>\n",
       "      <td>0.0</td>\n",
       "      <td>0.519989</td>\n",
       "      <td>0.0</td>\n",
       "      <td>0.0</td>\n",
       "      <td>0.0</td>\n",
       "      <td>0.0</td>\n",
       "      <td>0.0</td>\n",
       "      <td>0.00000</td>\n",
       "      <td>0.0</td>\n",
       "      <td>0.00000</td>\n",
       "    </tr>\n",
       "    <tr>\n",
       "      <th>3</th>\n",
       "      <td>0.0</td>\n",
       "      <td>0.00000</td>\n",
       "      <td>0.0</td>\n",
       "      <td>0.0</td>\n",
       "      <td>0.0</td>\n",
       "      <td>0.563004</td>\n",
       "      <td>0.00000</td>\n",
       "      <td>0.428401</td>\n",
       "      <td>0.0</td>\n",
       "      <td>0.000000</td>\n",
       "      <td>...</td>\n",
       "      <td>0.0</td>\n",
       "      <td>0.000000</td>\n",
       "      <td>0.0</td>\n",
       "      <td>0.0</td>\n",
       "      <td>0.0</td>\n",
       "      <td>0.0</td>\n",
       "      <td>0.0</td>\n",
       "      <td>0.00000</td>\n",
       "      <td>0.0</td>\n",
       "      <td>0.00000</td>\n",
       "    </tr>\n",
       "    <tr>\n",
       "      <th>4</th>\n",
       "      <td>0.0</td>\n",
       "      <td>0.57735</td>\n",
       "      <td>0.0</td>\n",
       "      <td>0.0</td>\n",
       "      <td>0.0</td>\n",
       "      <td>0.000000</td>\n",
       "      <td>0.57735</td>\n",
       "      <td>0.000000</td>\n",
       "      <td>0.0</td>\n",
       "      <td>0.000000</td>\n",
       "      <td>...</td>\n",
       "      <td>0.0</td>\n",
       "      <td>0.000000</td>\n",
       "      <td>0.0</td>\n",
       "      <td>0.0</td>\n",
       "      <td>0.0</td>\n",
       "      <td>0.0</td>\n",
       "      <td>0.0</td>\n",
       "      <td>0.00000</td>\n",
       "      <td>0.0</td>\n",
       "      <td>0.57735</td>\n",
       "    </tr>\n",
       "    <tr>\n",
       "      <th>...</th>\n",
       "      <td>...</td>\n",
       "      <td>...</td>\n",
       "      <td>...</td>\n",
       "      <td>...</td>\n",
       "      <td>...</td>\n",
       "      <td>...</td>\n",
       "      <td>...</td>\n",
       "      <td>...</td>\n",
       "      <td>...</td>\n",
       "      <td>...</td>\n",
       "      <td>...</td>\n",
       "      <td>...</td>\n",
       "      <td>...</td>\n",
       "      <td>...</td>\n",
       "      <td>...</td>\n",
       "      <td>...</td>\n",
       "      <td>...</td>\n",
       "      <td>...</td>\n",
       "      <td>...</td>\n",
       "      <td>...</td>\n",
       "      <td>...</td>\n",
       "    </tr>\n",
       "    <tr>\n",
       "      <th>99995</th>\n",
       "      <td>0.5</td>\n",
       "      <td>0.00000</td>\n",
       "      <td>0.5</td>\n",
       "      <td>0.0</td>\n",
       "      <td>0.0</td>\n",
       "      <td>0.000000</td>\n",
       "      <td>0.00000</td>\n",
       "      <td>0.000000</td>\n",
       "      <td>0.0</td>\n",
       "      <td>0.000000</td>\n",
       "      <td>...</td>\n",
       "      <td>0.0</td>\n",
       "      <td>0.000000</td>\n",
       "      <td>0.0</td>\n",
       "      <td>0.0</td>\n",
       "      <td>0.0</td>\n",
       "      <td>0.0</td>\n",
       "      <td>0.0</td>\n",
       "      <td>0.00000</td>\n",
       "      <td>0.5</td>\n",
       "      <td>0.00000</td>\n",
       "    </tr>\n",
       "    <tr>\n",
       "      <th>99996</th>\n",
       "      <td>0.0</td>\n",
       "      <td>0.00000</td>\n",
       "      <td>0.0</td>\n",
       "      <td>0.0</td>\n",
       "      <td>0.0</td>\n",
       "      <td>0.000000</td>\n",
       "      <td>0.00000</td>\n",
       "      <td>0.000000</td>\n",
       "      <td>0.0</td>\n",
       "      <td>0.000000</td>\n",
       "      <td>...</td>\n",
       "      <td>0.0</td>\n",
       "      <td>0.625673</td>\n",
       "      <td>0.0</td>\n",
       "      <td>0.0</td>\n",
       "      <td>0.0</td>\n",
       "      <td>0.0</td>\n",
       "      <td>0.0</td>\n",
       "      <td>0.00000</td>\n",
       "      <td>0.0</td>\n",
       "      <td>0.00000</td>\n",
       "    </tr>\n",
       "    <tr>\n",
       "      <th>99997</th>\n",
       "      <td>0.0</td>\n",
       "      <td>0.57735</td>\n",
       "      <td>0.0</td>\n",
       "      <td>0.0</td>\n",
       "      <td>0.0</td>\n",
       "      <td>0.000000</td>\n",
       "      <td>0.57735</td>\n",
       "      <td>0.000000</td>\n",
       "      <td>0.0</td>\n",
       "      <td>0.000000</td>\n",
       "      <td>...</td>\n",
       "      <td>0.0</td>\n",
       "      <td>0.000000</td>\n",
       "      <td>0.0</td>\n",
       "      <td>0.0</td>\n",
       "      <td>0.0</td>\n",
       "      <td>0.0</td>\n",
       "      <td>0.0</td>\n",
       "      <td>0.00000</td>\n",
       "      <td>0.0</td>\n",
       "      <td>0.57735</td>\n",
       "    </tr>\n",
       "    <tr>\n",
       "      <th>99998</th>\n",
       "      <td>0.0</td>\n",
       "      <td>0.00000</td>\n",
       "      <td>0.0</td>\n",
       "      <td>0.0</td>\n",
       "      <td>0.0</td>\n",
       "      <td>0.000000</td>\n",
       "      <td>0.00000</td>\n",
       "      <td>0.000000</td>\n",
       "      <td>0.0</td>\n",
       "      <td>0.000000</td>\n",
       "      <td>...</td>\n",
       "      <td>0.0</td>\n",
       "      <td>0.000000</td>\n",
       "      <td>0.0</td>\n",
       "      <td>0.0</td>\n",
       "      <td>0.0</td>\n",
       "      <td>0.0</td>\n",
       "      <td>0.0</td>\n",
       "      <td>0.57735</td>\n",
       "      <td>0.0</td>\n",
       "      <td>0.00000</td>\n",
       "    </tr>\n",
       "    <tr>\n",
       "      <th>99999</th>\n",
       "      <td>0.0</td>\n",
       "      <td>0.00000</td>\n",
       "      <td>0.0</td>\n",
       "      <td>0.0</td>\n",
       "      <td>0.0</td>\n",
       "      <td>0.000000</td>\n",
       "      <td>0.00000</td>\n",
       "      <td>0.000000</td>\n",
       "      <td>0.0</td>\n",
       "      <td>0.000000</td>\n",
       "      <td>...</td>\n",
       "      <td>0.0</td>\n",
       "      <td>0.000000</td>\n",
       "      <td>0.0</td>\n",
       "      <td>0.0</td>\n",
       "      <td>0.0</td>\n",
       "      <td>0.0</td>\n",
       "      <td>0.0</td>\n",
       "      <td>0.57735</td>\n",
       "      <td>0.0</td>\n",
       "      <td>0.00000</td>\n",
       "    </tr>\n",
       "  </tbody>\n",
       "</table>\n",
       "<p>100000 rows × 30 columns</p>\n",
       "</div>"
      ],
      "text/plain": [
       "       after    again  apart  are  average       but      buy  comfortable  \\\n",
       "0        0.0  0.00000    0.0  0.0      0.0  0.563004  0.00000     0.428401   \n",
       "1        0.0  0.00000    0.0  0.0      0.0  0.000000  0.00000     0.000000   \n",
       "2        0.0  0.00000    0.0  0.0      0.0  0.000000  0.00000     0.000000   \n",
       "3        0.0  0.00000    0.0  0.0      0.0  0.563004  0.00000     0.428401   \n",
       "4        0.0  0.57735    0.0  0.0      0.0  0.000000  0.57735     0.000000   \n",
       "...      ...      ...    ...  ...      ...       ...      ...          ...   \n",
       "99995    0.5  0.00000    0.5  0.0      0.0  0.000000  0.00000     0.000000   \n",
       "99996    0.0  0.00000    0.0  0.0      0.0  0.000000  0.00000     0.000000   \n",
       "99997    0.0  0.57735    0.0  0.0      0.0  0.000000  0.57735     0.000000   \n",
       "99998    0.0  0.00000    0.0  0.0      0.0  0.000000  0.00000     0.000000   \n",
       "99999    0.0  0.00000    0.0  0.0      0.0  0.000000  0.00000     0.000000   \n",
       "\n",
       "       decent        do  ...  quality  recommend  sneaker  these  they  \\\n",
       "0         0.0  0.000000  ...      0.0   0.000000      0.0    0.0   0.0   \n",
       "1         0.0  0.000000  ...      0.0   0.625673      0.0    0.0   0.0   \n",
       "2         0.0  0.646419  ...      0.0   0.519989      0.0    0.0   0.0   \n",
       "3         0.0  0.000000  ...      0.0   0.000000      0.0    0.0   0.0   \n",
       "4         0.0  0.000000  ...      0.0   0.000000      0.0    0.0   0.0   \n",
       "...       ...       ...  ...      ...        ...      ...    ...   ...   \n",
       "99995     0.0  0.000000  ...      0.0   0.000000      0.0    0.0   0.0   \n",
       "99996     0.0  0.000000  ...      0.0   0.625673      0.0    0.0   0.0   \n",
       "99997     0.0  0.000000  ...      0.0   0.000000      0.0    0.0   0.0   \n",
       "99998     0.0  0.000000  ...      0.0   0.000000      0.0    0.0   0.0   \n",
       "99999     0.0  0.000000  ...      0.0   0.000000      0.0    0.0   0.0   \n",
       "\n",
       "       uncomfortable  very    waste  week     will  \n",
       "0                0.0   0.0  0.00000   0.0  0.00000  \n",
       "1                0.0   0.0  0.00000   0.0  0.00000  \n",
       "2                0.0   0.0  0.00000   0.0  0.00000  \n",
       "3                0.0   0.0  0.00000   0.0  0.00000  \n",
       "4                0.0   0.0  0.00000   0.0  0.57735  \n",
       "...              ...   ...      ...   ...      ...  \n",
       "99995            0.0   0.0  0.00000   0.5  0.00000  \n",
       "99996            0.0   0.0  0.00000   0.0  0.00000  \n",
       "99997            0.0   0.0  0.00000   0.0  0.57735  \n",
       "99998            0.0   0.0  0.57735   0.0  0.00000  \n",
       "99999            0.0   0.0  0.57735   0.0  0.00000  \n",
       "\n",
       "[100000 rows x 30 columns]"
      ]
     },
     "execution_count": 107,
     "metadata": {},
     "output_type": "execute_result"
    }
   ],
   "source": [
    "numeric_review"
   ]
  },
  {
   "cell_type": "code",
   "execution_count": 112,
   "id": "d70ef42b-51dd-4f1d-8b9c-a69b120d45b0",
   "metadata": {
    "tags": []
   },
   "outputs": [],
   "source": [
    "result_df = pd.concat([df, numeric_review], axis=1)"
   ]
  },
  {
   "cell_type": "code",
   "execution_count": 113,
   "id": "a006d749-1f2f-4b60-92ba-acdc41d543cd",
   "metadata": {
    "tags": []
   },
   "outputs": [
    {
     "data": {
      "text/html": [
       "<div>\n",
       "<style scoped>\n",
       "    .dataframe tbody tr th:only-of-type {\n",
       "        vertical-align: middle;\n",
       "    }\n",
       "\n",
       "    .dataframe tbody tr th {\n",
       "        vertical-align: top;\n",
       "    }\n",
       "\n",
       "    .dataframe thead th {\n",
       "        text-align: right;\n",
       "    }\n",
       "</style>\n",
       "<table border=\"1\" class=\"dataframe\">\n",
       "  <thead>\n",
       "    <tr style=\"text-align: right;\">\n",
       "      <th></th>\n",
       "      <th>review_id</th>\n",
       "      <th>product_id</th>\n",
       "      <th>user_id</th>\n",
       "      <th>rating</th>\n",
       "      <th>review_text</th>\n",
       "      <th>timestamp</th>\n",
       "      <th>cleaned_review_text</th>\n",
       "      <th>after</th>\n",
       "      <th>again</th>\n",
       "      <th>apart</th>\n",
       "      <th>...</th>\n",
       "      <th>quality</th>\n",
       "      <th>recommend</th>\n",
       "      <th>sneaker</th>\n",
       "      <th>these</th>\n",
       "      <th>they</th>\n",
       "      <th>uncomfortable</th>\n",
       "      <th>very</th>\n",
       "      <th>waste</th>\n",
       "      <th>week</th>\n",
       "      <th>will</th>\n",
       "    </tr>\n",
       "  </thead>\n",
       "  <tbody>\n",
       "    <tr>\n",
       "      <th>0</th>\n",
       "      <td>1</td>\n",
       "      <td>103</td>\n",
       "      <td>16074</td>\n",
       "      <td>3</td>\n",
       "      <td>Comfortable, but not durable.</td>\n",
       "      <td>2022/11/07 05:30</td>\n",
       "      <td>comfortable but not durable</td>\n",
       "      <td>0.0</td>\n",
       "      <td>0.00000</td>\n",
       "      <td>0.0</td>\n",
       "      <td>...</td>\n",
       "      <td>0.0</td>\n",
       "      <td>0.000000</td>\n",
       "      <td>0.0</td>\n",
       "      <td>0.0</td>\n",
       "      <td>0.0</td>\n",
       "      <td>0.0</td>\n",
       "      <td>0.0</td>\n",
       "      <td>0.0</td>\n",
       "      <td>0.0</td>\n",
       "      <td>0.00000</td>\n",
       "    </tr>\n",
       "    <tr>\n",
       "      <th>1</th>\n",
       "      <td>2</td>\n",
       "      <td>436</td>\n",
       "      <td>11648</td>\n",
       "      <td>4</td>\n",
       "      <td>Highly recommend!</td>\n",
       "      <td>2021/09/11 02:53</td>\n",
       "      <td>highly recommend</td>\n",
       "      <td>0.0</td>\n",
       "      <td>0.00000</td>\n",
       "      <td>0.0</td>\n",
       "      <td>...</td>\n",
       "      <td>0.0</td>\n",
       "      <td>0.625673</td>\n",
       "      <td>0.0</td>\n",
       "      <td>0.0</td>\n",
       "      <td>0.0</td>\n",
       "      <td>0.0</td>\n",
       "      <td>0.0</td>\n",
       "      <td>0.0</td>\n",
       "      <td>0.0</td>\n",
       "      <td>0.00000</td>\n",
       "    </tr>\n",
       "    <tr>\n",
       "      <th>2</th>\n",
       "      <td>3</td>\n",
       "      <td>861</td>\n",
       "      <td>46508</td>\n",
       "      <td>2</td>\n",
       "      <td>Do not recommend.</td>\n",
       "      <td>2022/12/14 13:24</td>\n",
       "      <td>do not recommend</td>\n",
       "      <td>0.0</td>\n",
       "      <td>0.00000</td>\n",
       "      <td>0.0</td>\n",
       "      <td>...</td>\n",
       "      <td>0.0</td>\n",
       "      <td>0.519989</td>\n",
       "      <td>0.0</td>\n",
       "      <td>0.0</td>\n",
       "      <td>0.0</td>\n",
       "      <td>0.0</td>\n",
       "      <td>0.0</td>\n",
       "      <td>0.0</td>\n",
       "      <td>0.0</td>\n",
       "      <td>0.00000</td>\n",
       "    </tr>\n",
       "    <tr>\n",
       "      <th>3</th>\n",
       "      <td>4</td>\n",
       "      <td>271</td>\n",
       "      <td>40094</td>\n",
       "      <td>3</td>\n",
       "      <td>Comfortable, but not durable.</td>\n",
       "      <td>2021/11/29 04:01</td>\n",
       "      <td>comfortable but not durable</td>\n",
       "      <td>0.0</td>\n",
       "      <td>0.00000</td>\n",
       "      <td>0.0</td>\n",
       "      <td>...</td>\n",
       "      <td>0.0</td>\n",
       "      <td>0.000000</td>\n",
       "      <td>0.0</td>\n",
       "      <td>0.0</td>\n",
       "      <td>0.0</td>\n",
       "      <td>0.0</td>\n",
       "      <td>0.0</td>\n",
       "      <td>0.0</td>\n",
       "      <td>0.0</td>\n",
       "      <td>0.00000</td>\n",
       "    </tr>\n",
       "    <tr>\n",
       "      <th>4</th>\n",
       "      <td>5</td>\n",
       "      <td>107</td>\n",
       "      <td>49897</td>\n",
       "      <td>4</td>\n",
       "      <td>Will buy again.</td>\n",
       "      <td>2023/04/24 12:12</td>\n",
       "      <td>will buy again</td>\n",
       "      <td>0.0</td>\n",
       "      <td>0.57735</td>\n",
       "      <td>0.0</td>\n",
       "      <td>...</td>\n",
       "      <td>0.0</td>\n",
       "      <td>0.000000</td>\n",
       "      <td>0.0</td>\n",
       "      <td>0.0</td>\n",
       "      <td>0.0</td>\n",
       "      <td>0.0</td>\n",
       "      <td>0.0</td>\n",
       "      <td>0.0</td>\n",
       "      <td>0.0</td>\n",
       "      <td>0.57735</td>\n",
       "    </tr>\n",
       "  </tbody>\n",
       "</table>\n",
       "<p>5 rows × 37 columns</p>\n",
       "</div>"
      ],
      "text/plain": [
       "   review_id  product_id  user_id  rating                    review_text  \\\n",
       "0          1         103    16074       3  Comfortable, but not durable.   \n",
       "1          2         436    11648       4              Highly recommend!   \n",
       "2          3         861    46508       2              Do not recommend.   \n",
       "3          4         271    40094       3  Comfortable, but not durable.   \n",
       "4          5         107    49897       4                Will buy again.   \n",
       "\n",
       "          timestamp          cleaned_review_text  after    again  apart  ...  \\\n",
       "0  2022/11/07 05:30  comfortable but not durable    0.0  0.00000    0.0  ...   \n",
       "1  2021/09/11 02:53             highly recommend    0.0  0.00000    0.0  ...   \n",
       "2  2022/12/14 13:24             do not recommend    0.0  0.00000    0.0  ...   \n",
       "3  2021/11/29 04:01  comfortable but not durable    0.0  0.00000    0.0  ...   \n",
       "4  2023/04/24 12:12               will buy again    0.0  0.57735    0.0  ...   \n",
       "\n",
       "   quality  recommend  sneaker  these  they  uncomfortable  very  waste  week  \\\n",
       "0      0.0   0.000000      0.0    0.0   0.0            0.0   0.0    0.0   0.0   \n",
       "1      0.0   0.625673      0.0    0.0   0.0            0.0   0.0    0.0   0.0   \n",
       "2      0.0   0.519989      0.0    0.0   0.0            0.0   0.0    0.0   0.0   \n",
       "3      0.0   0.000000      0.0    0.0   0.0            0.0   0.0    0.0   0.0   \n",
       "4      0.0   0.000000      0.0    0.0   0.0            0.0   0.0    0.0   0.0   \n",
       "\n",
       "      will  \n",
       "0  0.00000  \n",
       "1  0.00000  \n",
       "2  0.00000  \n",
       "3  0.00000  \n",
       "4  0.57735  \n",
       "\n",
       "[5 rows x 37 columns]"
      ]
     },
     "execution_count": 113,
     "metadata": {},
     "output_type": "execute_result"
    }
   ],
   "source": [
    "result_df.head()"
   ]
  },
  {
   "cell_type": "markdown",
   "id": "ea366f71-b0ba-4506-9798-bb269239b83a",
   "metadata": {},
   "source": [
    "### Label Creation"
   ]
  },
  {
   "cell_type": "code",
   "execution_count": 228,
   "id": "4f8dd2f0-2999-426b-8387-c50cbf79bb17",
   "metadata": {
    "tags": []
   },
   "outputs": [
    {
     "name": "stdout",
     "output_type": "stream",
     "text": [
      "       rating sentiment\n",
      "0           3   Neutral\n",
      "1           4  Positive\n",
      "2           2   Neutral\n",
      "3           3   Neutral\n",
      "4           4  Positive\n",
      "...       ...       ...\n",
      "99995       1  Negative\n",
      "99996       5  Positive\n",
      "99997       5  Positive\n",
      "99998       1  Negative\n",
      "99999       1  Negative\n",
      "\n",
      "[100000 rows x 2 columns]\n"
     ]
    }
   ],
   "source": [
    "# Load the dataset with cleaned and preprocessed text \n",
    "\n",
    "# Define sentiment threshold values\n",
    "positive_threshold = 4.0  # Example threshold for positive sentiment\n",
    "neutral_threshold_low = 2.0  # Example lower threshold for neutral sentiment\n",
    "neutral_threshold_high = 4.0  # Example upper threshold for neutral sentiment\n",
    "\n",
    "# Define a mapping between ratings and sentiment labels\n",
    "def classify_sentiment(predicted_rating):\n",
    "    if predicted_rating >= positive_threshold:\n",
    "        return \"Positive\"\n",
    "    elif predicted_rating >= neutral_threshold_low and predicted_rating < neutral_threshold_high:\n",
    "        return \"Neutral\"\n",
    "    else:\n",
    "        return \"Negative\"\n",
    "\n",
    "# Apply the mapping function to create a new 'sentiment' column\n",
    "df['sentiment'] = df['rating'].apply(classify_sentiment)\n",
    "\n",
    "# Display the resulting DataFrame with sentiment labels\n",
    "print(df[['rating', 'sentiment']])\n"
   ]
  },
  {
   "cell_type": "code",
   "execution_count": 229,
   "id": "36a2c8ee-27eb-4549-aaeb-a7d846ab1b6a",
   "metadata": {
    "tags": []
   },
   "outputs": [
    {
     "data": {
      "text/html": [
       "<div>\n",
       "<style scoped>\n",
       "    .dataframe tbody tr th:only-of-type {\n",
       "        vertical-align: middle;\n",
       "    }\n",
       "\n",
       "    .dataframe tbody tr th {\n",
       "        vertical-align: top;\n",
       "    }\n",
       "\n",
       "    .dataframe thead th {\n",
       "        text-align: right;\n",
       "    }\n",
       "</style>\n",
       "<table border=\"1\" class=\"dataframe\">\n",
       "  <thead>\n",
       "    <tr style=\"text-align: right;\">\n",
       "      <th></th>\n",
       "      <th>review_id</th>\n",
       "      <th>product_id</th>\n",
       "      <th>user_id</th>\n",
       "      <th>rating</th>\n",
       "      <th>review_text</th>\n",
       "      <th>timestamp</th>\n",
       "      <th>cleaned_review_text</th>\n",
       "      <th>sentiment</th>\n",
       "    </tr>\n",
       "  </thead>\n",
       "  <tbody>\n",
       "    <tr>\n",
       "      <th>0</th>\n",
       "      <td>1</td>\n",
       "      <td>103</td>\n",
       "      <td>16074</td>\n",
       "      <td>3</td>\n",
       "      <td>Comfortable, but not durable.</td>\n",
       "      <td>2022/11/07 05:30</td>\n",
       "      <td>comfortable but not durable</td>\n",
       "      <td>Neutral</td>\n",
       "    </tr>\n",
       "    <tr>\n",
       "      <th>1</th>\n",
       "      <td>2</td>\n",
       "      <td>436</td>\n",
       "      <td>11648</td>\n",
       "      <td>4</td>\n",
       "      <td>Highly recommend!</td>\n",
       "      <td>2021/09/11 02:53</td>\n",
       "      <td>highly recommend</td>\n",
       "      <td>Positive</td>\n",
       "    </tr>\n",
       "    <tr>\n",
       "      <th>2</th>\n",
       "      <td>3</td>\n",
       "      <td>861</td>\n",
       "      <td>46508</td>\n",
       "      <td>2</td>\n",
       "      <td>Do not recommend.</td>\n",
       "      <td>2022/12/14 13:24</td>\n",
       "      <td>do not recommend</td>\n",
       "      <td>Neutral</td>\n",
       "    </tr>\n",
       "    <tr>\n",
       "      <th>3</th>\n",
       "      <td>4</td>\n",
       "      <td>271</td>\n",
       "      <td>40094</td>\n",
       "      <td>3</td>\n",
       "      <td>Comfortable, but not durable.</td>\n",
       "      <td>2021/11/29 04:01</td>\n",
       "      <td>comfortable but not durable</td>\n",
       "      <td>Neutral</td>\n",
       "    </tr>\n",
       "    <tr>\n",
       "      <th>4</th>\n",
       "      <td>5</td>\n",
       "      <td>107</td>\n",
       "      <td>49897</td>\n",
       "      <td>4</td>\n",
       "      <td>Will buy again.</td>\n",
       "      <td>2023/04/24 12:12</td>\n",
       "      <td>will buy again</td>\n",
       "      <td>Positive</td>\n",
       "    </tr>\n",
       "  </tbody>\n",
       "</table>\n",
       "</div>"
      ],
      "text/plain": [
       "   review_id  product_id  user_id  rating                    review_text  \\\n",
       "0          1         103    16074       3  Comfortable, but not durable.   \n",
       "1          2         436    11648       4              Highly recommend!   \n",
       "2          3         861    46508       2              Do not recommend.   \n",
       "3          4         271    40094       3  Comfortable, but not durable.   \n",
       "4          5         107    49897       4                Will buy again.   \n",
       "\n",
       "          timestamp          cleaned_review_text sentiment  \n",
       "0  2022/11/07 05:30  comfortable but not durable   Neutral  \n",
       "1  2021/09/11 02:53             highly recommend  Positive  \n",
       "2  2022/12/14 13:24             do not recommend   Neutral  \n",
       "3  2021/11/29 04:01  comfortable but not durable   Neutral  \n",
       "4  2023/04/24 12:12               will buy again  Positive  "
      ]
     },
     "execution_count": 229,
     "metadata": {},
     "output_type": "execute_result"
    }
   ],
   "source": [
    "df.head()"
   ]
  },
  {
   "cell_type": "code",
   "execution_count": null,
   "id": "353244ba-a544-4afe-b65c-6c357a7612d4",
   "metadata": {},
   "outputs": [],
   "source": []
  },
  {
   "cell_type": "markdown",
   "id": "e1e4ab3a-548f-4051-ad33-f708e3bfab58",
   "metadata": {},
   "source": [
    "### Train-Test Split"
   ]
  },
  {
   "cell_type": "code",
   "execution_count": 259,
   "id": "e3ed4629-6320-4134-89a0-53dae25a1b27",
   "metadata": {
    "tags": []
   },
   "outputs": [],
   "source": [
    "# Define the features (X) and the target (y)\n",
    "tfidf_vectorizer = TfidfVectorizer(max_features=20) \n",
    "X = tfidf_vectorizer.fit_transform(df['cleaned_review_text'])\n",
    "y = df['sentiment']\n",
    "\n",
    "# Split the dataset into training and testing sets (e.g., 80% for training, 20% for testing)\n",
    "X_train, X_test, y_train, y_test = train_test_split(X, y, test_size=0.2, random_state=42)\n",
    "\n",
    "# Print the sizes of the training and testing sets\n",
    "#print(f\"Training set size: {len(X_train)}\")\n",
    "#print(f\"Testing set size: {len(X_test)}\")\n"
   ]
  },
  {
   "cell_type": "code",
   "execution_count": 260,
   "id": "a03446e9-1123-4589-9fcd-1eb2efa18cc0",
   "metadata": {
    "tags": []
   },
   "outputs": [
    {
     "name": "stderr",
     "output_type": "stream",
     "text": [
      "/usr/local/lib/python3.8/dist-packages/sklearn/linear_model/_logistic.py:458: ConvergenceWarning: lbfgs failed to converge (status=1):\n",
      "STOP: TOTAL NO. of ITERATIONS REACHED LIMIT.\n",
      "\n",
      "Increase the number of iterations (max_iter) or scale the data as shown in:\n",
      "    https://scikit-learn.org/stable/modules/preprocessing.html\n",
      "Please also refer to the documentation for alternative solver options:\n",
      "    https://scikit-learn.org/stable/modules/linear_model.html#logistic-regression\n",
      "  n_iter_i = _check_optimize_result(\n"
     ]
    },
    {
     "name": "stdout",
     "output_type": "stream",
     "text": [
      "              precision    recall  f1-score   support\n",
      "\n",
      "    Negative       0.51      0.40      0.45      4047\n",
      "     Neutral       0.72      0.80      0.76      7928\n",
      "    Positive       1.00      1.00      1.00      8025\n",
      "\n",
      "    accuracy                           0.80     20000\n",
      "   macro avg       0.74      0.73      0.74     20000\n",
      "weighted avg       0.79      0.80      0.79     20000\n",
      "\n",
      " \n"
     ]
    }
   ],
   "source": [
    "from sklearn.linear_model import LogisticRegression\n",
    "from sklearn.metrics import classification_report\n",
    "\n",
    "# Initialize and train a Logistic Regression classifier\n",
    "classifier = LogisticRegression()\n",
    "classifier.fit(X_train, y_train)\n",
    "\n",
    "# Make predictions on the test data\n",
    "y_pred = classifier.predict(X_test)\n",
    "#y_pred2 = classifier.predict(X_test)\n",
    "\n",
    "# Evaluate the model's performance\n",
    "report = classification_report(y_test, y_pred)\n",
    "#report1 = classification_report(y_test, y_pred2)\n",
    "print(report)\n",
    "print(\" \")\n",
    "#print(report1)"
   ]
  },
  {
   "cell_type": "markdown",
   "id": "bc9576ad-aa7e-4c40-9598-7c3dfdda74bc",
   "metadata": {},
   "source": [
    "- The above results show that our model performs well especially when it comes to the positive sentiments.\n",
    "- Overall scoring an 80% accuracy.\n",
    "- To obtain a better accuracy we have tried training another model (SVM) as seen below but obtain the same results. We can safely conclude that this is the optimal level of model we shall obtain and in order to obtain better performance metrics we will have to look at improving the train dataset."
   ]
  },
  {
   "cell_type": "markdown",
   "id": "ab10cd09-33ed-4d69-9c1c-6dcdbd899ecb",
   "metadata": {},
   "source": [
    "### TESTING:"
   ]
  },
  {
   "cell_type": "code",
   "execution_count": 235,
   "id": "f32e5bf6-f6fb-4bb8-8cb9-73da8f93ae4a",
   "metadata": {
    "tags": []
   },
   "outputs": [],
   "source": [
    "user_input= 'Poor shoe didnt even last!'\n",
    "user_input= [user_input]"
   ]
  },
  {
   "cell_type": "code",
   "execution_count": 269,
   "id": "02fadb10-4eb4-49b2-b623-0a03fe642e34",
   "metadata": {
    "tags": []
   },
   "outputs": [],
   "source": [
    "user_input= 'Poor shoe didnt even last!'\n",
    "user_input= [user_input]\n",
    "for i in range(len(user_input)):\n",
    "    # Tokenize text\n",
    "    tokens = word_tokenize(user_input[i])\n",
    "    tokens = [word.lower() for word in tokens]\n",
    "    \n",
    "    # Remove punctuation\n",
    "    tokens = [word for word in tokens if word not in string.punctuation]\n",
    "    \n",
    "    # Lemmatize words\n",
    "    lemmatizer = WordNetLemmatizer()\n",
    "    tokens = [lemmatizer.lemmatize(word) for word in tokens]\n",
    "    \n",
    "    # Join tokens back into a string\n",
    "    user_input[i] = ' '.join(tokens)"
   ]
  },
  {
   "cell_type": "code",
   "execution_count": 270,
   "id": "3117de73-7b08-4773-801b-e619ccff6a71",
   "metadata": {
    "tags": []
   },
   "outputs": [
    {
     "data": {
      "text/plain": [
       "['poor shoe didnt even last']"
      ]
     },
     "execution_count": 270,
     "metadata": {},
     "output_type": "execute_result"
    }
   ],
   "source": [
    "user_input"
   ]
  },
  {
   "cell_type": "code",
   "execution_count": 271,
   "id": "aaf9ac02-5d4e-4255-ac7f-9523e7f01a0e",
   "metadata": {
    "tags": []
   },
   "outputs": [],
   "source": [
    "user_input_vectorized = tfidf_vectorizer.transform(user_input)"
   ]
  },
  {
   "cell_type": "code",
   "execution_count": 272,
   "id": "433b432a-d486-4097-8651-7eedbf3efb2a",
   "metadata": {
    "tags": []
   },
   "outputs": [],
   "source": [
    "predicted_sentiment = classifier.predict(user_input_vectorized)"
   ]
  },
  {
   "cell_type": "code",
   "execution_count": 273,
   "id": "3ea0ca6a-fa4a-4584-8a21-03a8e982a831",
   "metadata": {
    "tags": []
   },
   "outputs": [
    {
     "data": {
      "text/plain": [
       "array(['Negative'], dtype=object)"
      ]
     },
     "execution_count": 273,
     "metadata": {},
     "output_type": "execute_result"
    }
   ],
   "source": [
    "predicted_sentiment"
   ]
  },
  {
   "cell_type": "code",
   "execution_count": null,
   "id": "080e25f4-6fc7-4e81-a49a-ae627137c032",
   "metadata": {},
   "outputs": [],
   "source": []
  },
  {
   "cell_type": "code",
   "execution_count": null,
   "id": "ac7bfa70-eef5-443a-9899-db0b53d253da",
   "metadata": {},
   "outputs": [],
   "source": []
  },
  {
   "cell_type": "code",
   "execution_count": 206,
   "id": "27babf4e-99a1-4f4f-a65d-808fb44948c9",
   "metadata": {
    "tags": []
   },
   "outputs": [],
   "source": [
    "def classify_sentiment(predicted_ratings):\n",
    "    # Initialize an empty array to store the sentiment labels\n",
    "    sentiment_labels = []\n",
    "\n",
    "    # Iterate through each predicted rating\n",
    "    for rating in predicted_ratings:\n",
    "        if rating >= positive_threshold:\n",
    "            sentiment_labels.append(\"Positive\")\n",
    "        elif rating >= neutral_threshold_low and rating < neutral_threshold_high:\n",
    "            sentiment_labels.append(\"Neutral\")\n",
    "        else:\n",
    "            sentiment_labels.append(\"Negative\")\n",
    "\n",
    "    # Convert the list of sentiment labels to a NumPy array\n",
    "    sentiment_labels = np.array(sentiment_labels)\n",
    "\n",
    "    return sentiment_labels\n",
    "\n",
    "sentiment_classification = classify_sentiment(y_predR)"
   ]
  },
  {
   "cell_type": "code",
   "execution_count": 207,
   "id": "7effb618-286c-49bd-84ce-ccf18af70418",
   "metadata": {
    "tags": []
   },
   "outputs": [
    {
     "data": {
      "text/plain": [
       "array(['Negative', 'Positive', 'Positive', ..., 'Neutral', 'Positive',\n",
       "       'Positive'], dtype='<U8')"
      ]
     },
     "execution_count": 207,
     "metadata": {},
     "output_type": "execute_result"
    }
   ],
   "source": [
    "sentiment_classification"
   ]
  },
  {
   "cell_type": "code",
   "execution_count": 222,
   "id": "89fb12e5-1acf-451c-a868-73cf0b656d8d",
   "metadata": {
    "tags": []
   },
   "outputs": [],
   "source": [
    "usertxt= 'Not a good product!'\n",
    "usertxt= preprocess_text(usertxt)\n",
    "usertxt = tfidf_vectorizer.fit_transform([usertxt])\n",
    "pred = regressor.predict(user_input_vectorized)"
   ]
  },
  {
   "cell_type": "markdown",
   "id": "e553d940-5879-411e-a51c-591b88e4bfd2",
   "metadata": {},
   "source": [
    "## Trying different models"
   ]
  },
  {
   "cell_type": "code",
   "execution_count": 274,
   "id": "92d8ef00-1d8e-4e92-b66c-a52f0ab5a495",
   "metadata": {
    "tags": []
   },
   "outputs": [
    {
     "name": "stderr",
     "output_type": "stream",
     "text": [
      "[nltk_data] Downloading package punkt to /users/gary/nltk_data...\n",
      "[nltk_data]   Package punkt is already up-to-date!\n",
      "[nltk_data] Downloading package stopwords to /users/gary/nltk_data...\n",
      "[nltk_data]   Package stopwords is already up-to-date!\n",
      "[nltk_data] Downloading package wordnet to /users/gary/nltk_data...\n",
      "[nltk_data]   Package wordnet is already up-to-date!\n"
     ]
    },
    {
     "name": "stdout",
     "output_type": "stream",
     "text": [
      "Shape: (100000, 6)\n",
      "              precision    recall  f1-score   support\n",
      "\n",
      "    Negative       0.51      0.40      0.45      4047\n",
      "     Neutral       0.72      0.80      0.76      7928\n",
      "    Positive       1.00      1.00      1.00      8025\n",
      "\n",
      "    accuracy                           0.80     20000\n",
      "   macro avg       0.74      0.73      0.74     20000\n",
      "weighted avg       0.79      0.80      0.79     20000\n",
      "\n"
     ]
    }
   ],
   "source": [
    "import pandas as pd\n",
    "import numpy as np\n",
    "import matplotlib.pyplot as plt\n",
    "plt.style.use('ggplot')\n",
    "import seaborn as sns\n",
    "\n",
    "import nltk\n",
    "from nltk.corpus import stopwords\n",
    "from nltk.tokenize import word_tokenize\n",
    "from nltk.stem import WordNetLemmatizer\n",
    "import string\n",
    "nltk.download('punkt')\n",
    "nltk.download('stopwords')\n",
    "nltk.download('wordnet')\n",
    "from nltk.sentiment import SentimentIntensityAnalyzer\n",
    "\n",
    "from sklearn.feature_extraction.text import TfidfVectorizer\n",
    "from sklearn.model_selection import train_test_split\n",
    "from sklearn.svm import SVC  # Import the Support Vector Machine classifier\n",
    "from sklearn.metrics import classification_report\n",
    "import pickle\n",
    "\n",
    "# Read the dataset\n",
    "df = pd.read_csv('sneakers_Reviews_Dataset.csv', sep=\";\")\n",
    "print('Shape:', df.shape)\n",
    "df.head()\n",
    "\n",
    "# Preprocess the text data\n",
    "def preprocess_text(text):\n",
    "    text = text.lower()\n",
    "    text = text.translate(str.maketrans('', '', string.punctuation))\n",
    "    tokens = word_tokenize(text)\n",
    "    lemmatizer = WordNetLemmatizer()\n",
    "    tokens = [lemmatizer.lemmatize(word) for word in tokens]\n",
    "    preprocessed_text = ' '.join(tokens)\n",
    "    return preprocessed_text\n",
    "\n",
    "df['cleaned_review_text'] = df['review_text'].apply(preprocess_text)\n",
    "\n",
    "# Initialize the TF-IDF vectorizer\n",
    "tfidf_vectorizer = TfidfVectorizer(max_features=20)\n",
    "\n",
    "# Fit and transform the cleaned review_text\n",
    "tfidf_matrix = tfidf_vectorizer.fit_transform(df['cleaned_review_text'])\n",
    "\n",
    "# Convert the TF-IDF matrix to a Pandas DataFrame\n",
    "numeric_review = pd.DataFrame(tfidf_matrix.toarray(), columns=tfidf_vectorizer.get_feature_names_out())\n",
    "\n",
    "# Define sentiment threshold values\n",
    "positive_threshold = 4.0\n",
    "neutral_threshold_low = 2.0\n",
    "neutral_threshold_high = 4.0\n",
    "\n",
    "# Define a mapping between ratings and sentiment labels\n",
    "def classify_sentiment(predicted_rating):\n",
    "    if predicted_rating >= positive_threshold:\n",
    "        return \"Positive\"\n",
    "    elif predicted_rating >= neutral_threshold_low and predicted_rating < neutral_threshold_high:\n",
    "        return \"Neutral\"\n",
    "    else:\n",
    "        return \"Negative\"\n",
    "\n",
    "df['sentiment'] = df['rating'].apply(classify_sentiment)\n",
    "\n",
    "# Define the features (X) and the target (y)\n",
    "tfidf_vectorizer = TfidfVectorizer(max_features=20)\n",
    "X = tfidf_vectorizer.fit_transform(df['cleaned_review_text'])\n",
    "y = df['sentiment']\n",
    "\n",
    "# Split the dataset into training and testing sets (e.g., 80% for training, 20% for testing)\n",
    "X_train, X_test, y_train, y_test = train_test_split(X, y, test_size=0.2, random_state=42)\n",
    "\n",
    "# Initialize and train a Support Vector Machine (SVM) classifier\n",
    "model = SVC(kernel='linear', C=1.0)  # You can adjust the kernel and C parameter as needed\n",
    "model.fit(X_train, y_train)\n",
    "\n",
    "# Make predictions on the test data\n",
    "y_pred3 = model.predict(X_test)\n",
    "\n",
    "# Evaluate the model's performance\n",
    "report = classification_report(y_test, y_pred3)\n",
    "print(report)\n",
    "\n",
    "# Save the SVM model and TF-IDF vectorizer\n",
    "with open('sentiment_svm_model.pkl', 'wb') as model_file:\n",
    "    pickle.dump(classifier, model_file)\n",
    "\n",
    "with open('transformvec.pkl', 'wb') as transformvec_file:\n",
    "    pickle.dump(tfidf_vectorizer, transformvec_file)\n"
   ]
  },
  {
   "cell_type": "code",
   "execution_count": 278,
   "id": "48ce037e-baa8-4a3b-9d13-c70a50347864",
   "metadata": {
    "tags": []
   },
   "outputs": [
    {
     "name": "stdout",
     "output_type": "stream",
     "text": [
      "              precision    recall  f1-score   support\n",
      "\n",
      "    Negative       0.51      0.40      0.45      4047\n",
      "     Neutral       0.72      0.80      0.76      7928\n",
      "    Positive       1.00      1.00      1.00      8025\n",
      "\n",
      "    accuracy                           0.80     20000\n",
      "   macro avg       0.74      0.73      0.74     20000\n",
      "weighted avg       0.79      0.80      0.79     20000\n",
      "\n"
     ]
    }
   ],
   "source": [
    "# Initialize and train a Support Vector Machine (SVM) classifier\n",
    "model = SVC(kernel='poly', C=1.0)  # You can adjust the kernel and C parameter as needed\n",
    "model.fit(X_train, y_train)\n",
    "\n",
    "# Make predictions on the test data\n",
    "y_pred3 = model.predict(X_test)\n",
    "\n",
    "# Evaluate the model's performance\n",
    "report = classification_report(y_test, y_pred3)\n",
    "print(report)\n"
   ]
  },
  {
   "cell_type": "code",
   "execution_count": 277,
   "id": "bb9d2d9e-b6ce-4228-a02a-8b77f28e05d0",
   "metadata": {
    "tags": []
   },
   "outputs": [
    {
     "name": "stdout",
     "output_type": "stream",
     "text": [
      "Fitting 3 folds for each of 9 candidates, totalling 27 fits\n",
      "[CV] END ...............................C=0.1, kernel=linear; total time=  29.0s\n",
      "[CV] END ...............................C=0.1, kernel=linear; total time=  28.9s\n",
      "[CV] END ...............................C=0.1, kernel=linear; total time=  28.8s\n",
      "[CV] END ..................................C=0.1, kernel=rbf; total time=  41.5s\n",
      "[CV] END ..................................C=0.1, kernel=rbf; total time=  41.6s\n",
      "[CV] END ..................................C=0.1, kernel=rbf; total time=  41.6s\n",
      "[CV] END .................................C=0.1, kernel=poly; total time=  31.5s\n",
      "[CV] END .................................C=0.1, kernel=poly; total time=  31.6s\n",
      "[CV] END .................................C=0.1, kernel=poly; total time=  32.1s\n",
      "[CV] END .................................C=1, kernel=linear; total time=  28.1s\n",
      "[CV] END .................................C=1, kernel=linear; total time=  28.0s\n",
      "[CV] END .................................C=1, kernel=linear; total time=  28.1s\n",
      "[CV] END ....................................C=1, kernel=rbf; total time=  40.7s\n",
      "[CV] END ....................................C=1, kernel=rbf; total time=  41.1s\n",
      "[CV] END ....................................C=1, kernel=rbf; total time=  41.1s\n",
      "[CV] END ...................................C=1, kernel=poly; total time=  31.1s\n",
      "[CV] END ...................................C=1, kernel=poly; total time=  31.3s\n",
      "[CV] END ...................................C=1, kernel=poly; total time=  31.5s\n",
      "[CV] END ................................C=10, kernel=linear; total time=  28.1s\n",
      "[CV] END ................................C=10, kernel=linear; total time=  28.0s\n",
      "[CV] END ................................C=10, kernel=linear; total time=  28.0s\n",
      "[CV] END ...................................C=10, kernel=rbf; total time=  41.0s\n",
      "[CV] END ...................................C=10, kernel=rbf; total time=  41.2s\n",
      "[CV] END ...................................C=10, kernel=rbf; total time=  41.5s\n",
      "[CV] END ..................................C=10, kernel=poly; total time=  31.4s\n",
      "[CV] END ..................................C=10, kernel=poly; total time=  31.4s\n",
      "[CV] END ..................................C=10, kernel=poly; total time=  31.4s\n",
      "              precision    recall  f1-score   support\n",
      "\n",
      "    Negative       0.51      0.40      0.45      4047\n",
      "     Neutral       0.72      0.80      0.76      7928\n",
      "    Positive       1.00      1.00      1.00      8025\n",
      "\n",
      "    accuracy                           0.80     20000\n",
      "   macro avg       0.74      0.73      0.74     20000\n",
      "weighted avg       0.79      0.80      0.79     20000\n",
      "\n"
     ]
    }
   ],
   "source": [
    "from sklearn.model_selection import GridSearchCV\n",
    "\n",
    "# Grid Search for Hyperparameter Tuning\n",
    "param_grid = {'C': [0.1, 1, 10],\n",
    "              'kernel': ['linear', 'rbf', 'poly']}\n",
    "grid_search = GridSearchCV(SVC(), param_grid, cv=3, n_jobs=-1, verbose=2)\n",
    "grid_search.fit(X_train, y_train)\n",
    "\n",
    "# Get the best model from the grid search\n",
    "best_classifier = grid_search.best_estimator_\n",
    "\n",
    "# Make predictions on the test data\n",
    "y_pred4 = best_classifier.predict(X_test)\n",
    "\n",
    "\n",
    "# Evaluate the model's performance\n",
    "report3 = classification_report(y_test, y_pred4)\n",
    "print(report3)"
   ]
  },
  {
   "cell_type": "markdown",
   "id": "c78826c2-e6ee-4a11-97c4-4c0e7f5230d5",
   "metadata": {},
   "source": [
    "- Overall we see that we obtained identical results for all 3 models, therefore any model shall do. We will use the Logistic Regression model for our use case"
   ]
  },
  {
   "cell_type": "code",
   "execution_count": null,
   "id": "c17d765c-0420-4795-90f3-c83cc475c700",
   "metadata": {},
   "outputs": [],
   "source": []
  },
  {
   "cell_type": "code",
   "execution_count": null,
   "id": "372b1b6b-0f84-477e-b248-1113f1639ae5",
   "metadata": {},
   "outputs": [],
   "source": []
  }
 ],
 "metadata": {
  "kernelspec": {
   "display_name": "ASTRO-GPU (TensorFlow)",
   "language": "python",
   "name": "astro-gpu"
  },
  "language_info": {
   "codemirror_mode": {
    "name": "ipython",
    "version": 3
   },
   "file_extension": ".py",
   "mimetype": "text/x-python",
   "name": "python",
   "nbconvert_exporter": "python",
   "pygments_lexer": "ipython3",
   "version": "3.8.10"
  }
 },
 "nbformat": 4,
 "nbformat_minor": 5
}
